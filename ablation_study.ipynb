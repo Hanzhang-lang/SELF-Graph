{
 "cells": [
  {
   "cell_type": "code",
   "execution_count": 2,
   "metadata": {},
   "outputs": [],
   "source": [
    "from langchain_openai import AzureChatOpenAI, ChatOpenAI\n",
    "import os\n",
    "from langchain.prompts.prompt import PromptTemplate\n",
    "from langchain.prompts.few_shot import FewShotPromptTemplate\n",
    "from langchain.chains import LLMChain\n",
    "# os.environ[\"AZURE_OPENAI_API_KEY\"] = \"2b219db0d2984f9dae28b651ab8ab3d9\"\n",
    "# os.environ[\"AZURE_OPENAI_ENDPOINT\"] = \"https://smsh.openai.azure.com/\"\n",
    "# os.environ[\"AZURE_OPENAI_API_VERSION\"] = \"2024-02-01\"\n",
    "# os.environ[\"AZURE_OPENAI_CHAT_DEPLOYMENT_NAME\"] = \"gpt-35-turbo\"\n",
    "\n",
    "\n",
    "os.environ[\"AZURE_OPENAI_API_KEY\"] = \"aa183bb914bb4858b15bed161fb47ba5\"\n",
    "os.environ[\"AZURE_OPENAI_ENDPOINT\"] = \"https://bxcl-prod.openai.azure.com/\"\n",
    "os.environ[\"AZURE_OPENAI_API_VERSION\"] = \"2024-08-01-preview\"\n",
    "os.environ[\"AZURE_OPENAI_CHAT_DEPLOYMENT_NAME\"] = \"gpt-4o-mini\"\n",
    "\n",
    "model = AzureChatOpenAI(\n",
    "    openai_api_version=os.environ[\"AZURE_OPENAI_API_VERSION\"],\n",
    "    azure_deployment=os.environ[\"AZURE_OPENAI_CHAT_DEPLOYMENT_NAME\"],\n",
    "    temperature=1,\n",
    "    n = 3,\n",
    "    max_retries=5, request_timeout=600\n",
    ")\n",
    "\n",
    "openai_model = ChatOpenAI(model = 'gpt-3.5-turbo', base_url=\"https://api.chatanywhere.tech/v1\", api_key=\"sk-bLZSHx4pKfPRZkYyIyyvUHSEjrlqj5sh2QIsxOM23yJnyoGD\")\n",
    "from langchain.prompts.prompt import PromptTemplate\n",
    "from langchain.prompts.few_shot import FewShotPromptTemplate\n",
    "from langchain.chains import LLMChain\n",
    "prompt = \"\"\"Q: What state is home to the university that is represented in sports by George Washington Colonials\n",
    "men’s basketball?\n",
    "A: Washington, D.C.\n",
    "Q: Who lists Pramatha Chaudhuri as an influence and wrote Jana Gana Mana?\n",
    "A: Bharoto Bhagyo Bidhata.\n",
    "Q: Who was the artist nominated for an award for You Drive Me Crazy?\n",
    "A: Jason Allen Alexander.\n",
    "Q: What person born in Siegen influenced the work of Vincent Van Gogh?\n",
    "A: Peter Paul Rubens.\n",
    "Q: What is the country close to Russia where Mikheil Saakashvii holds a government position?\n",
    "A: Georgia.\n",
    "A: Heroin.\n",
    "Q: What drug did the actor who portrayed the character Urethane Wheels Guy overdosed on?\n",
    "Q: {Query}\n",
    "A: \"\"\""
   ]
  },
  {
   "cell_type": "code",
   "execution_count": 5,
   "metadata": {},
   "outputs": [],
   "source": [
    "# The name of Justin Bieber's brother is Jaxon Bieber. This is based on the reasoning path that connects Justin Bieber to Jaxon Bieber through the relationship of sibling. The other paths that connect Justin Bieber to Jazmyn Bieber or back to Justin Bieber himself are incorrect in this context.\n",
    "few_shot_io_prompt = FewShotPromptTemplate(\n",
    "        examples=[\n",
    "        {\n",
    "            \"query\": \"who was real housewives brandi married to\",\n",
    "            \"output\": \"Eddie Cibrian\",        }, \n",
    "        {\n",
    "            \"query\": \"who did ben stiller play in megamind\",\n",
    "            \"output\": \"Bernard\",\n",
    "        }, \n",
    "        {\n",
    "            \"query\": \"who was real housewives brandi married to\",\n",
    "            \"output\": \"Eddie Cibrian\",\n",
    "        },\n",
    "        {\n",
    "            \"query\": \"what time zone am i in cleveland ohio\",\n",
    "            \"output\": \"Eastern Time Zone\",\n",
    "        }],\n",
    "        example_prompt=PromptTemplate.from_template(\"\"\"\n",
    "Query: {query}\n",
    "Output: {output}\"\"\"),\n",
    "        prefix=\n",
    "        \"\"\"Based on the given query, answer the question. Directly output the answer without explanation\"\"\",\n",
    "        suffix=\n",
    "        \"Query: {query}\\n\"\n",
    "        \"Output:\",\n",
    "        input_variables=[\"query\"],\n",
    ")\n",
    "\n",
    "\n"
   ]
  },
  {
   "cell_type": "code",
   "execution_count": null,
   "metadata": {},
   "outputs": [],
   "source": [
    "graph_intepretable_prompt = PromptTemplate(input_variables=[\"Query\"], template=\n",
    "prompt)\n",
    "io_chain = LLMChain(llm=model, prompt=few_shot_io_prompt, verbose=False)\n",
    "io_chain_open = LLMChain(llm=openai_model, prompt=few_shot_io_prompt, verbose=False)\n",
    "content = io_chain.invoke('what is the name of justin bieber brother')"
   ]
  },
  {
   "cell_type": "code",
   "execution_count": 7,
   "metadata": {},
   "outputs": [
    {
     "name": "stdout",
     "output_type": "stream",
     "text": [
      "1639\n"
     ]
    }
   ],
   "source": [
    "import json\n",
    "with open('./data/merged/WebQSP_test.json', 'r',encoding='utf-8') as f:\n",
    "    test_data = json.load(f)\n",
    "print(len(test_data))"
   ]
  },
  {
   "cell_type": "code",
   "execution_count": 11,
   "metadata": {},
   "outputs": [],
   "source": [
    "from typing import List\n",
    "import random\n",
    "def save_to_json(data: List, data_path=''):\n",
    "    if not os.path.isfile(data_path):\n",
    "        # 文件不存在，创建新列表并写入文件\n",
    "        with open(data_path, 'w', encoding='utf-8') as file:\n",
    "            json.dump(data, file, ensure_ascii=False, indent=4)\n",
    "        return\n",
    "    try:\n",
    "        # 尝试读取现有文件\n",
    "        with open(data_path, 'r', encoding='utf-8') as file:\n",
    "            # 加载现有的JSON数据\n",
    "            existing_data = json.load(file)\n",
    "            existing_data.extend(data)\n",
    "    except json.JSONDecodeError:\n",
    "        # 文件不是有效的JSON，打印错误信息并退出\n",
    "        print(f\"文件 {data_path} 不是有效的JSON格式。\")\n",
    "        return\n",
    "    except ValueError as e:\n",
    "        # 打印错误信息并退出\n",
    "        print(e)\n",
    "        return\n",
    "    # 将更新后的数据写回文件\n",
    "    with open(data_path, 'w', encoding='utf-8') as file:\n",
    "        json.dump(existing_data, file, ensure_ascii=False, indent=4)"
   ]
  },
  {
   "cell_type": "code",
   "execution_count": null,
   "metadata": {},
   "outputs": [],
   "source": [
    "outputs = []\n",
    "for index in range(1350, len(test_data)):\n",
    "    data_input = test_data[index]['question']\n",
    "    try:\n",
    "        output = io_chain.invoke({'query': data_input})['text']\n",
    "    except:\n",
    "        output = io_chain_open.invoke({'query': data_input})['text']\n",
    "    outputs.append({'qid': test_data[index]['ID'], 'answer': output})\n",
    "    if index % 10 == 0:\n",
    "        print(f'Saving {index}')\n",
    "        save_to_json(outputs, './output/ablation/webqsp_io.json')\n",
    "        outputs = []"
   ]
  },
  {
   "cell_type": "code",
   "execution_count": 24,
   "metadata": {},
   "outputs": [
    {
     "name": "stdout",
     "output_type": "stream",
     "text": [
      "1639\n"
     ]
    }
   ],
   "source": [
    "with open('./output/ablation/webqsp_io.json', 'r') as f:\n",
    "    webqsp = json.load(f)\n",
    "print(len(webqsp))\n"
   ]
  },
  {
   "cell_type": "code",
   "execution_count": 27,
   "metadata": {},
   "outputs": [],
   "source": [
    "from src.sparql_utils import *"
   ]
  },
  {
   "cell_type": "code",
   "execution_count": 31,
   "metadata": {},
   "outputs": [],
   "source": [
    "count = 0\n",
    "for index in range(len(webqsp)):\n",
    "    hit = 0\n",
    "    assert webqsp[index]['qid'] == test_data[index]['ID']\n",
    "    labels = [get_label(ans) if ans.startswith('m.') else ans for ans in test_data[index]['answer']]\n",
    "    for label in labels:\n",
    "        if label and label in webqsp[index]['answer']:\n",
    "            hit = 1\n",
    "    if hit == 1:\n",
    "        count += 1\n",
    "    else:\n",
    "        break"
   ]
  },
  {
   "cell_type": "code",
   "execution_count": 29,
   "metadata": {},
   "outputs": [
    {
     "data": {
      "text/plain": [
       "0.46918852959121415"
      ]
     },
     "execution_count": 29,
     "metadata": {},
     "output_type": "execute_result"
    }
   ],
   "source": [
    "count / len(webqsp)"
   ]
  }
 ],
 "metadata": {
  "kernelspec": {
   "display_name": "self-rag",
   "language": "python",
   "name": "python3"
  },
  "language_info": {
   "codemirror_mode": {
    "name": "ipython",
    "version": 3
   },
   "file_extension": ".py",
   "mimetype": "text/x-python",
   "name": "python",
   "nbconvert_exporter": "python",
   "pygments_lexer": "ipython3",
   "version": "3.10.15"
  }
 },
 "nbformat": 4,
 "nbformat_minor": 2
}
