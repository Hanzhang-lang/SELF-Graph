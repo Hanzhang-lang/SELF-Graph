{
 "cells": [
  {
   "cell_type": "code",
   "execution_count": null,
   "id": "a3d26e5b",
   "metadata": {},
   "outputs": [],
   "source": []
  },
  {
   "cell_type": "markdown",
   "id": "72f3ee57-68ab-4040-bd36-4014e2a23d96",
   "metadata": {},
   "source": [
    "## Setup\n",
    "\n",
    "First let's install our required packages and set our API keys"
   ]
  },
  {
   "cell_type": "code",
   "execution_count": 11,
   "id": "de4ee2a5",
   "metadata": {},
   "outputs": [],
   "source": [
    "from langchain_openai import AzureChatOpenAI\n",
    "import os\n",
    "\n",
    "\n",
    "os.environ[\"AZURE_OPENAI_API_KEY\"] = \"2b219db0d2984f9dae28b651ab8ab3d9\"\n",
    "os.environ[\"AZURE_OPENAI_ENDPOINT\"] = \"https://smsh.openai.azure.com/\"\n",
    "os.environ[\"AZURE_OPENAI_API_VERSION\"] = \"2024-02-01\"\n",
    "os.environ[\"AZURE_OPENAI_CHAT_DEPLOYMENT_NAME\"] = \"gpt-35-turbo\"\n",
    "\n",
    "# os.environ[\"AZURE_OPENAI_API_KEY\"] = \"0c75de50975e4f278b882fe90da47f2f\"\n",
    "# os.environ[\"AZURE_OPENAI_ENDPOINT\"] = \"https://ces.openai.azure.com\"\n",
    "# os.environ[\"AZURE_OPENAI_API_VERSION\"] = \"2024-02-01\"\n",
    "# os.environ[\"AZURE_OPENAI_CHAT_DEPLOYMENT_NAME\"] = \"gpt-35-turbo\"\n",
    "\n",
    "# os.environ[\"AZURE_OPENAI_API_KEY\"] = \"aa183bb914bb4858b15bed161fb47ba5\"\n",
    "# os.environ[\"AZURE_OPENAI_ENDPOINT\"] = \"https://bxcl-prod.openai.azure.com/\"\n",
    "# os.environ[\"AZURE_OPENAI_API_VERSION\"] = \"2024-08-01-preview\"\n",
    "# os.environ[\"AZURE_OPENAI_CHAT_DEPLOYMENT_NAME\"] = \"gpt-4o\"\n",
    "model = AzureChatOpenAI(\n",
    "    openai_api_version=os.environ[\"AZURE_OPENAI_API_VERSION\"],\n",
    "    azure_deployment=os.environ[\"AZURE_OPENAI_CHAT_DEPLOYMENT_NAME\"],\n",
    "    temperature=0.3,\n",
    "    n = 3,\n",
    "    max_retries=5, request_timeout=600\n",
    ")\n"
   ]
  },
  {
   "cell_type": "code",
   "execution_count": 4,
   "id": "b19b672f",
   "metadata": {},
   "outputs": [],
   "source": [
    "import os\n",
    "from uuid import uuid4\n",
    "\n",
    "unique_id = uuid4().hex[0:8]\n",
    "os.environ[\"LANGCHAIN_TRACING_V2\"] = \"true\"\n",
    "os.environ[\"LANGCHAIN_PROJECT\"] = f\"Tracing Walkthrough - {unique_id}\"\n",
    "os.environ[\"LANGCHAIN_ENDPOINT\"] = \"https://api.smith.langchain.com\"\n",
    "os.environ[\"LANGCHAIN_API_KEY\"] = \"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\"  "
   ]
  },
  {
   "cell_type": "code",
   "execution_count": 5,
   "id": "d82bb282",
   "metadata": {},
   "outputs": [],
   "source": [
    "from langsmith import Client\n",
    "\n",
    "client = Client()"
   ]
  },
  {
   "cell_type": "markdown",
   "id": "c27bebdc-be71-4130-ab9d-42f09f87658b",
   "metadata": {},
   "source": [
    "## Retriever\n",
    " \n",
    "Let's index 3 blog posts."
   ]
  },
  {
   "cell_type": "code",
   "execution_count": 1,
   "id": "c9c612d9",
   "metadata": {},
   "outputs": [
    {
     "name": "stdout",
     "output_type": "stream",
     "text": [
      "Freebase Virtuoso ODBC connected\n"
     ]
    }
   ],
   "source": [
    "from src.sparql_utils import *\n",
    "import json \n",
    "with open(\"./data/WebQSP.json\", 'r') as f:\n",
    "    all_data = json.load(f)\n",
    "i = 2\n",
    "all_data[1]['Parses'][i]['TopicEntityMid']\n",
    "sparql_relations = []\n",
    "\n",
    "def abandon_rels(relation):\n",
    "    \"\"\"删除无效relation\"\"\"\n",
    "    if relation == \"type.object.type\" or relation == \"type.object.name\" or relation.startswith(\"common.\") or relation.startswith(\"freebase.\") or \"sameAs\" in relation:\n",
    "        return True\n",
    "    \n",
    "for entity in all_data[i]['topic_entity']:\n",
    "    head_relations = get_in_relations_with_odbc(entity)\n",
    "\n",
    "    tail_relations = get_out_relations_with_odbc(entity)\n",
    "    head_relations = list(set(head_relations))\n",
    "    tail_relations = list(set(tail_relations))  \n",
    "    sparql_relations = head_relations + tail_relations\n",
    "\n"
   ]
  },
  {
   "cell_type": "code",
   "execution_count": 12,
   "id": "c7098762",
   "metadata": {},
   "outputs": [
    {
     "data": {
      "text/plain": [
       "{'El Pasas',\n",
       " 'El Paso',\n",
       " 'El Paso County / El Paso city',\n",
       " 'El Paso, Teksas',\n",
       " 'El Paso, Texas',\n",
       " 'Elpaso',\n",
       " 'Estrella del sud-oest',\n",
       " 'Franklin',\n",
       " 'La ciutat del Sol',\n",
       " 'Terra de Sol',\n",
       " 'Ελ Πάσο',\n",
       " 'Ел Пасо',\n",
       " 'Ель-Пасо',\n",
       " 'Эль-Пасо',\n",
       " 'אל פאסו',\n",
       " 'إل باسو',\n",
       " 'ال پاسو',\n",
       " 'एल पासो',\n",
       " 'เอลแพโซ',\n",
       " 'エル・パソ',\n",
       " '艾爾帕索',\n",
       " '엘파소',\n",
       " '엘패소'}"
      ]
     },
     "execution_count": 12,
     "metadata": {},
     "output_type": "execute_result"
    }
   ],
   "source": [
    "FREEBASE_SPARQL_WRAPPER_URL = \"http://localhost:3001/sparql\"\n",
    "FREEBASE_ODBC_PORT = 13001\n",
    "sparql = SPARQLWrapper(FREEBASE_SPARQL_WRAPPER_URL)\n",
    "sparql_id = \"\"\"PREFIX ns: <http://rdf.freebase.com/ns/>\\nSELECT DISTINCT ?tailEntity\\nWHERE {\\n  {\\n    ?entity ns:type.object.name ?tailEntity .\\n    FILTER(?entity = ns:%s)\\n  }\\n  UNION\\n  {\\n    ?entity <http://www.w3.org/2002/07/owl#sameAs> ?tailEntity .\\n    FILTER(?entity = ns:%s)\\n  }\\n}\"\"\"\n",
    "sparql_id = \"\"\"PREFIX ns: <http://rdf.freebase.com/ns/>\n",
    "SELECT DISTINCT ?tailEntity\n",
    "WHERE {\n",
    "  {\n",
    "    ?entity ns:type.object.name ?tailEntity .\n",
    "    FILTER(?entity = ns:%s)\n",
    "  }\n",
    "  UNION\n",
    "  {\n",
    "    ?entity <http://www.w3.org/2002/07/owl#sameAs> ?tailEntity .\n",
    "    FILTER(?entity = ns:%s)\n",
    "  }\n",
    "  UNION\n",
    "  {\n",
    "    ?entity ns:common.topic.alias ?tailEntity .\n",
    "    FILTER(?entity = ns:%s)\n",
    "  }\n",
    "}\"\"\"\n",
    "entity_id = 'm.0100mt'\n",
    "sparql_query = sparql_id % (entity_id, entity_id, entity_id)\n",
    "execute_query_with_odbc(sparql_query)"
   ]
  },
  {
   "cell_type": "code",
   "execution_count": 23,
   "id": "a4f7b732",
   "metadata": {},
   "outputs": [
    {
     "data": {
      "text/plain": [
       "['film.performance']"
      ]
     },
     "execution_count": 23,
     "metadata": {},
     "output_type": "execute_result"
    }
   ],
   "source": [
    "get_another_entity('m.0528y98', 'type.type.instance',False)"
   ]
  },
  {
   "cell_type": "code",
   "execution_count": 22,
   "id": "4c5628bc",
   "metadata": {},
   "outputs": [
    {
     "data": {
      "text/plain": [
       "{'film.actor.film',\n",
       " 'film.film.starring',\n",
       " 'film.film_character.portrayed_in_films',\n",
       " 'film.performance.actor',\n",
       " 'film.performance.character',\n",
       " 'film.performance.character_note',\n",
       " 'film.performance.film',\n",
       " 'type.object.type',\n",
       " 'type.type.instance'}"
      ]
     },
     "execution_count": 22,
     "metadata": {},
     "output_type": "execute_result"
    }
   ],
   "source": [
    "get_1hop_relations_with_odbc('m.0528y98')"
   ]
  },
  {
   "cell_type": "code",
   "execution_count": 9,
   "id": "22fb9b39",
   "metadata": {},
   "outputs": [
    {
     "name": "stdout",
     "output_type": "stream",
     "text": [
      "PREFIX ns: <http://rdf.freebase.com/ns/>\n",
      "SELECT DISTINCT ?tailEntity\n",
      "WHERE {\n",
      "  {\n",
      "    ?entity ns:type.object.name ?tailEntity .\n",
      "    FILTER(?entity = ns:%s)\n",
      "  }\n",
      "  UNION\n",
      "  {\n",
      "    ?entity <http://www.w3.org/2002/07/owl#sameAs> ?tailEntity .\n",
      "    FILTER(?entity = ns:%s)\n",
      "  }\n",
      "}\n"
     ]
    }
   ],
   "source": [
    "print(sparql_id)"
   ]
  },
  {
   "cell_type": "code",
   "execution_count": 5,
   "id": "1adf17f0",
   "metadata": {},
   "outputs": [
    {
     "data": {
      "text/plain": [
       "<xml.dom.minidom.Document at 0x7f62a8d4b340>"
      ]
     },
     "execution_count": 5,
     "metadata": {},
     "output_type": "execute_result"
    }
   ],
   "source": [
    "results\n"
   ]
  },
  {
   "cell_type": "code",
   "execution_count": 11,
   "id": "565a6d44-2c9f-4fff-b1ec-eea05df9350d",
   "metadata": {},
   "outputs": [],
   "source": [
    "from langchain.text_splitter import RecursiveCharacterTextSplitter\n",
    "from langchain_community.document_loaders import WebBaseLoader\n",
    "from langchain_community.vectorstores import Chroma\n",
    "from langchain_openai import AzureOpenAIEmbeddings\n",
    "\n",
    "os.environ[\"AZURE_OPENAI_API_KEY\"] = \"2b219db0d2984f9dae28b651ab8ab3d9\"\n",
    "os.environ[\"AZURE_OPENAI_ENDPOINT\"] = \"https://smsh.openai.azure.com/\"\n",
    "os.environ[\"AZURE_OPENAI_API_VERSION\"] = \"2024-03-01-preview\"\n",
    "embeddings = AzureOpenAIEmbeddings(\n",
    "    model=\"text-embedding-3-small\",\n",
    ")\n",
    "\n",
    "from langchain.storage import LocalFileStore, RedisStore\n",
    "from langchain.embeddings import CacheBackedEmbeddings\n",
    "from langchain_community.vectorstores import FAISS\n",
    "store = RedisStore(redis_url=\"redis://localhost:6379\")\n",
    "cached_embedder = CacheBackedEmbeddings.from_bytes_store(\n",
    "embeddings, store, namespace=\"openai\"\n",
    ")\n",
    "row_string = []\n",
    "with open('../data/relations', 'r') as f:\n",
    "    data = f.readlines()\n",
    "db = FAISS.from_texts(data, cached_embedder)\n",
    "retriever = db.as_retriever()\n",
    "# Add to vectorDB\n",
    "# vectorstore = Chroma.from_documents(\n",
    "#     documents=doc_splits,\n",
    "#     collection_name=\"rag-chroma\",\n",
    "#     embedding=embeddings,\n",
    "# )\n",
    "# retriever = vectorstore.as_retriever()"
   ]
  },
  {
   "cell_type": "markdown",
   "id": "29c12f74-53e2-43cc-896f-875d1c5d9d93",
   "metadata": {},
   "source": [
    "## LLMs"
   ]
  },
  {
   "cell_type": "code",
   "execution_count": 2,
   "id": "3226fe0a",
   "metadata": {},
   "outputs": [
    {
     "data": {
      "text/plain": [
       "52"
      ]
     },
     "execution_count": 2,
     "metadata": {},
     "output_type": "execute_result"
    }
   ],
   "source": [
    "len(sparql_relations)"
   ]
  },
  {
   "cell_type": "code",
   "execution_count": 14,
   "id": "1fafad21-60cc-483e-92a3-6a7edb1838e3",
   "metadata": {},
   "outputs": [
    {
     "name": "stdout",
     "output_type": "stream",
     "text": [
      "relationship=['location.location.contains', 'location.hud_county_place.place', 'location.hud_county_place.county', 'location.hud_county_place.countyplace_id', 'location.location.containedby'] rating=None\n"
     ]
    }
   ],
   "source": [
    "### Retrieval Grader\n",
    "from langchain_core.prompts import ChatPromptTemplate\n",
    "from langchain_core.pydantic_v1 import BaseModel, Field\n",
    "from langchain_openai import ChatOpenAI\n",
    "from langchain_core.output_parsers import StrOutputParser\n",
    "# LLM with function call\n",
    "# llm = ChatOpenAI(model=\"gpt-3.5-turbo-0125\", temperature=0)\n",
    "from pydantic import BaseModel, Field\n",
    "from typing import List, Optional\n",
    "# Please retrieve 5 relations (separated by semicolon) that contribute to the question and rate their contribution on a scale from 0 to 1 (the sum of the scores of %s relations is 1).\n",
    "# Pydantic\n",
    "\n",
    "class Rating(BaseModel):\n",
    "    \"\"\"Rate Model\"\"\"\n",
    "\n",
    "    relationship: str = Field(description=\"The relationship name\")\n",
    "    rating: int = Field(description=\"The rate of the relevance contribution, from 0 to 5\")\n",
    "    reason: Optional[str] = Field(\n",
    "        default=None, description=\"The reason for choosing the relationship and rate\"\n",
    "    )\n",
    "class RelationOutput(BaseModel):\n",
    "    \"\"\"Relations list\"\"\"\n",
    "\n",
    "    relationship: List[str] = Field(description=\"the most relevant 5 relationships that contribute to the question\")\n",
    "    rating: List[Rating] = Field(\n",
    "        default=None, description=\"relevant 5 relations contribute to the question with their contribution rate\"\n",
    "    )\n",
    "\n",
    "# Prompt\n",
    "system = \"\"\"You are a grader assessing relevance of retrieved graph relationships to a user question. \\n \n",
    "    It does not need to be a stringent test. The goal is to filter out erroneous retrievals. \\n\n",
    "    If the relationships contain keyword(s) or semantic meaning related to the user question, grade it as relevant. \\n\n",
    "    Please retrieve 5 relations that contribute to the question and rate their contribution from 0 to 5.\"\"\"\n",
    "examples = \"\"\"\n",
    "Relations: language.human_language.main_country; language.human_language.language_family; language.human_language.iso_639_3_code; base.rosetta.languoid.parent; language.human_language.writing_system; base.rosetta.languoid.languoid_class; language.human_language.countries_spoken_in; kg.object_profile.prominent_type; base.rosetta.languoid.document; base.ontologies.ontology_instance.equivalent_instances; base.rosetta.languoid.local_name; language.human_language.region\n",
    "\n",
    "User question: Name the president of the country whose main spoken language was Brahui in 1980?\n",
    "A: {{\"relationship\": [language.human_language.main_country, language.human_language.countries_spoken_in, base.rosetta.languoid.parent], \"rating\": [\n",
    "{{\"relationship\": \"language.human_language.main_country\", \"rating\": 4, \"reason\": \"This relation is highly relevant as it directly relates to the country whose president is being asked for, and the main country where Brahui language is spoken in 1980.\"}},\n",
    "{{\"relationship\": \"language.human_language.countries_spoken_in\", \"rating\": 3, \"reason\": \"This relation is also relevant as it provides information on the countries where Brahui language is spoken, which could help narrow down the search for the president.\"}},\n",
    "{{\"relationship\": \"base.rosetta.languoid.parent\", \"rating\": 2, \"reason\": \"This relation is less relevant but still provides some context on the language family to which Brahui belongs, which could be useful in understanding the linguistic and cultural background of the country in question.\"}}  \n",
    "\"\"\"\n",
    "\n",
    "grade_prompt = ChatPromptTemplate.from_messages(\n",
    "    [\n",
    "        (\"system\", system + examples),\n",
    "        (\"human\", \"Relations: \\n\\n {document} \\n\\n User question: {question}\"),\n",
    "    ]\n",
    ")\n",
    "structured_grader = model.with_structured_output(RelationOutput)\n",
    "\n",
    "retrieval_grader = grade_prompt | structured_grader\n",
    "question = all_data[i]['RawQuestion']\n",
    "\n",
    "prune_relations = retrieval_grader.invoke({\"question\": question, \"document\": ';'.join(sparql_relations)})\n",
    "print(prune_relations)"
   ]
  },
  {
   "cell_type": "code",
   "execution_count": 18,
   "id": "ddf2c68c",
   "metadata": {},
   "outputs": [
    {
     "data": {
      "text/plain": [
       "{'m.0xdhj': 'St. Louis Park'}"
      ]
     },
     "execution_count": 18,
     "metadata": {},
     "output_type": "execute_result"
    }
   ],
   "source": [
    "all_data[i]['topic_entity']"
   ]
  },
  {
   "cell_type": "code",
   "execution_count": 23,
   "id": "7e67ab7a",
   "metadata": {},
   "outputs": [],
   "source": [
    "def get_head_entity(entity: str, relation: str, return_label=True):\n",
    "        query_head = \"\"\"PREFIX rdf: <http://www.w3.org/1999/02/22-rdf-syntax-ns#>\n",
    "                PREFIX rdfs: <http://www.w3.org/2000/01/rdf-schema#>\n",
    "                PREFIX : <http://rdf.freebase.com/ns/> \n",
    "                SELECT (?x0 AS ?value) WHERE {\n",
    "                SELECT DISTINCT ?x0  WHERE {\n",
    "                \"\"\" + '?x0' + ' :' + relation + ' :' + entity + '. ' + \"\"\"\n",
    "        }\n",
    "        }\"\"\"\n",
    "        if return_label==True:\n",
    "            return [get_label_with_odbc(e) for e in execute_query(query_head)]\n",
    "\n",
    "        return execute_query(query_head)\n",
    "def get_tail_entity(entity: str, relation: str, return_label=True):\n",
    "        query_tail = \"\"\"PREFIX rdf: <http://www.w3.org/1999/02/22-rdf-syntax-ns#>\n",
    "                PREFIX rdfs: <http://www.w3.org/2000/01/rdf-schema#>\n",
    "                PREFIX : <http://rdf.freebase.com/ns/> \n",
    "                SELECT (?x0 AS ?value) WHERE {\n",
    "                SELECT DISTINCT ?x0  WHERE {\n",
    "                \"\"\" + ':' + entity + ' :' + relation +  '?x0' + '. ' + \"\"\"\n",
    "        }  }\"\"\"\n",
    "        if return_label==True:\n",
    "            return [get_label_with_odbc(e) for e in execute_query(query_tail)]\n",
    "        return execute_query(query_tail)"
   ]
  },
  {
   "cell_type": "code",
   "execution_count": 16,
   "id": "98441d2a",
   "metadata": {},
   "outputs": [],
   "source": [
    "relation_w_score = []\n",
    "\n",
    "for r in prune_relations.relationship:\n",
    "    if r in head_relations:\n",
    "        entities = get_head_entity('m.0xdhj', r)\n",
    "    else: \n",
    "        entities = get_tail_entity('m.0xdhj', r)\n",
    "    relation_w_score.append({\"entity\":  'm.0xdhj' ,\"relationship\": r, \"head\": r in head_relations})"
   ]
  },
  {
   "cell_type": "code",
   "execution_count": 25,
   "id": "40573b66",
   "metadata": {},
   "outputs": [
    {
     "data": {
      "text/plain": [
       "{'m.0xdhj': 'St. Louis Park'}"
      ]
     },
     "execution_count": 25,
     "metadata": {},
     "output_type": "execute_result"
    }
   ],
   "source": [
    "all_data[i]['topic_entity']"
   ]
  },
  {
   "cell_type": "code",
   "execution_count": 31,
   "id": "cd1e061f",
   "metadata": {},
   "outputs": [
    {
     "data": {
      "text/plain": [
       "[{'relationship': 'location.location.contains', 'head': True},\n",
       " {'relationship': 'location.hud_county_place.place', 'head': True},\n",
       " {'relationship': 'location.hud_county_place.county', 'head': False},\n",
       " {'relationship': 'location.hud_county_place.countyplace_id', 'head': False},\n",
       " {'relationship': 'location.location.containedby', 'head': True}]"
      ]
     },
     "execution_count": 31,
     "metadata": {},
     "output_type": "execute_result"
    }
   ],
   "source": [
    "relation_w_score"
   ]
  },
  {
   "cell_type": "code",
   "execution_count": 42,
   "id": "2aafcee7",
   "metadata": {},
   "outputs": [],
   "source": [
    "entities=get_tail_entity('m.0xdhj', \"location.hud_county_place.countyplace_id\")\n",
    "triplets = [f\"(St. Louis Park, location.location.containedby, {entity}\" for entity in entities]"
   ]
  },
  {
   "cell_type": "code",
   "execution_count": 43,
   "id": "d3cacf21",
   "metadata": {},
   "outputs": [
    {
     "data": {
      "text/plain": [
       "[None]"
      ]
     },
     "execution_count": 43,
     "metadata": {},
     "output_type": "execute_result"
    }
   ],
   "source": [
    "entities"
   ]
  },
  {
   "cell_type": "code",
   "execution_count": 39,
   "id": "a4ec8445",
   "metadata": {},
   "outputs": [
    {
     "name": "stdout",
     "output_type": "stream",
     "text": [
      "relationship=[TriRating(triplet='(St. Louis Park, location.location.containedby, University of Phoenix-Minneapolis/St Paul Campus', rating=2, reason='Contains location information but not directly related to the county of St. Louis Park'), TriRating(triplet='(St. Louis Park, location.location.containedby, Chicago, Milwaukee, St. Paul and Pacific Depot', rating=1, reason='Not relevant to the county of St. Louis Park'), TriRating(triplet=\"(St. Louis Park, location.location.containedby, Toby Keith's I Love This Bar & Grill\", rating=1, reason='Not relevant to the county of St. Louis Park'), TriRating(triplet='(St. Louis Park, location.location.containedby, Peavey–Haglin Experimental Concrete Grain Elevator', rating=1, reason='Not relevant to the county of St. Louis Park'), TriRating(triplet='(St. Louis Park, location.location.containedby, DeVry University-Minnesota', rating=2, reason='Contains location information but not directly related to the county of St. Louis Park')]\n"
     ]
    }
   ],
   "source": [
    "class TriRating(BaseModel):\n",
    "    \"\"\"Rate Model\"\"\"\n",
    "\n",
    "    triplet: str = Field(description=\"The triplet (entity, relation, entity)\")\n",
    "    rating: int = Field(description=\"The rate of the relevance contribution, from 0 to 5\")\n",
    "    reason: Optional[str] = Field(\n",
    "        default=None, description=\"The reason for choosing the triplet\"\n",
    "    )\n",
    "\n",
    "class TriOutput(BaseModel):\n",
    "    \"\"\"Relations list\"\"\"\n",
    "\n",
    "    relationship: List[TriRating]= Field(description=\"The Trirating for each triplet provided\")\n",
    "\n",
    "def entity_score():\n",
    "    system = \"\"\"You are a grader assessing relevance of retrieved graph triplets to a user question. \\n Please score the contribution from 0 (lowest) - 5 (highest) for each triplet provided.\"\"\"\n",
    "\n",
    "\n",
    "    grade_prompt = ChatPromptTemplate.from_messages(\n",
    "        [\n",
    "            (\"system\", system ),\n",
    "            (\"human\", \"Triplets: \\n\\n {document} \\n\\n User question: {question}\"),\n",
    "        ]\n",
    "    )\n",
    "    structured_grader = model.with_structured_output(TriOutput)\n",
    "\n",
    "    retrieval_grader = grade_prompt | structured_grader\n",
    "    question = all_data[i]['RawQuestion']\n",
    "\n",
    "    prune_triples = retrieval_grader.invoke({\"question\": question, \"document\": '\\n'.join(triplets)})\n",
    "    print(prune_triples)\n",
    "entity_score()"
   ]
  },
  {
   "cell_type": "code",
   "execution_count": 21,
   "id": "297cfb6b",
   "metadata": {},
   "outputs": [
    {
     "data": {
      "text/plain": [
       "['m.04601vx',\n",
       " 'm.0ncf14h',\n",
       " 'm.04hv0s5',\n",
       " 'm.04tmj7k',\n",
       " 'm.0csbx4z',\n",
       " 'm.0gchffl',\n",
       " 'm.0k2fhg',\n",
       " 'm.0ncf4p_',\n",
       " 'm.0jxpjg',\n",
       " 'm.04p5_jq',\n",
       " 'm.0gdjgzm',\n",
       " 'm.0cgnnm_',\n",
       " 'm.0cpkk3r',\n",
       " 'm.0h10gwx',\n",
       " 'm.02vcnpq',\n",
       " 'm.0h4rhn3',\n",
       " 'm.0crt0rh',\n",
       " 'm.0jylf1',\n",
       " 'm.0jw31h',\n",
       " 'm.03lnwyf',\n",
       " 'm.0cw0frt',\n",
       " 'g.11b6ntbrrh',\n",
       " 'm.0tlwfsx',\n",
       " 'm.0k5s9k',\n",
       " 'm.02vbcht',\n",
       " 'm.04j3126',\n",
       " 'm.0gg2g2_',\n",
       " 'm.0k5scp',\n",
       " 'm.010nvx_x',\n",
       " 'm.03l_27l',\n",
       " 'm.02tb39x',\n",
       " 'm.02ws3bw',\n",
       " 'm.02vcc2j',\n",
       " 'g.11b6bnm19y',\n",
       " 'm.02vb8dx',\n",
       " 'm.045xysd',\n",
       " 'm.04m58pp',\n",
       " 'm.05t5kkc',\n",
       " 'm.0cg2wlx',\n",
       " 'm.0cg47_t',\n",
       " 'm.0crsy7r',\n",
       " 'm.0g5d2sy',\n",
       " 'm.0gm1brq',\n",
       " 'm.0gy9zn6',\n",
       " 'm.0gy9zpf',\n",
       " 'm.0j21lcf',\n",
       " 'm.0j_w0g',\n",
       " 'm.0jsry5',\n",
       " 'm.0jsw4b',\n",
       " 'm.0jt64l',\n",
       " 'm.0jx0v6',\n",
       " 'm.0jzd82',\n",
       " 'm.0k5sfk',\n",
       " 'm.0tlwgxy',\n",
       " 'm.0v_0_0q']"
      ]
     },
     "execution_count": 21,
     "metadata": {},
     "output_type": "execute_result"
    }
   ],
   "source": [
    "# execute_query(\"PREFIX ns: <http://rdf.freebase.com/ns/>\\nSELECT DISTINCT ?x\\nWHERE {\\nFILTER (?x != ns:m.078w2)\\nFILTER (!isLiteral(?x) OR lang(?x) = '' OR langMatches(lang(?x), 'en'))\\nns:m.078w2 ns:influence.influence_node.influenced_by ?x .\\n}\\n\")\n",
    "entity = \"m.01ps2h8\"\n",
    "relation = 'film.performance.actor'\n",
    "\n",
    "\n",
    "for r in relation_w_score:\n",
    "    entities = execute_query(query1)\n"
   ]
  },
  {
   "cell_type": "code",
   "execution_count": 3,
   "id": "dcd77cc1-4587-40ec-b633-5364eab9e1ec",
   "metadata": {},
   "outputs": [
    {
     "name": "stdout",
     "output_type": "stream",
     "text": [
      "The design of generative agents combines LLM with memory, planning, and reflection mechanisms to enable agents to behave conditioned on past experience and interact with other agents. Long-term memory provides the agent with the capability to retain and recall infinite information over extended periods. Short-term memory is utilized for in-context learning.\n"
     ]
    }
   ],
   "source": [
    "### Generate\n",
    "\n",
    "from langchain import hub\n",
    "from langchain_core.output_parsers import StrOutputParser\n",
    "\n",
    "# Prompt\n",
    "prompt = \"Given a question and the associated retrieved knowledge graph triplets (entity, relation, entity), you are asked to answer the question with these triplets and your knowledge.\"\n",
    "\n",
    "# Post-processing\n",
    "def format_docs(docs):\n",
    "    return \"\\n\\n\".join(doc.page_content for doc in docs)\n",
    "\n",
    "\n",
    "# Chain\n",
    "rag_chain = prompt | model | StrOutputParser()\n",
    "\n",
    "# Run\n",
    "generation = rag_chain.invoke({\"context\": docs, \"question\": question})\n",
    "print(generation)"
   ]
  },
  {
   "cell_type": "code",
   "execution_count": 4,
   "id": "e78931ec-940c-46ad-a0b2-f43f953f1fd7",
   "metadata": {},
   "outputs": [
    {
     "data": {
      "text/plain": [
       "GradeHallucinations(binary_score='yes')"
      ]
     },
     "execution_count": 4,
     "metadata": {},
     "output_type": "execute_result"
    }
   ],
   "source": [
    "### Hallucination Grader\n",
    "\n",
    "\n",
    "# Data model\n",
    "class GradeHallucinations(BaseModel):\n",
    "    \"\"\"Binary score for hallucination present in generation answer.\"\"\"\n",
    "\n",
    "    binary_score: str = Field(\n",
    "        description=\"Answer is grounded in the facts, 'yes' or 'no'\"\n",
    "    )\n",
    "\n",
    "\n",
    "# LLM with function call\n",
    "llm = ChatOpenAI(model=\"gpt-3.5-turbo-0125\", temperature=0)\n",
    "structured_llm_grader = llm.with_structured_output(GradeHallucinations)\n",
    "\n",
    "# Prompt\n",
    "system = \"\"\"You are a grader assessing whether an LLM generation is grounded in / supported by a set of retrieved facts. \\n \n",
    "     Give a binary score 'yes' or 'no'. 'Yes' means that the answer is grounded in / supported by the set of facts.\"\"\"\n",
    "hallucination_prompt = ChatPromptTemplate.from_messages(\n",
    "    [\n",
    "        (\"system\", system),\n",
    "        (\"human\", \"Set of facts: \\n\\n {documents} \\n\\n LLM generation: {generation}\"),\n",
    "    ]\n",
    ")\n",
    "\n",
    "hallucination_grader = hallucination_prompt | structured_llm_grader\n",
    "hallucination_grader.invoke({\"documents\": docs, \"generation\": generation})"
   ]
  },
  {
   "cell_type": "code",
   "execution_count": 5,
   "id": "bd62276f-bf26-40d0-8cff-e07b10e00321",
   "metadata": {},
   "outputs": [
    {
     "data": {
      "text/plain": [
       "GradeAnswer(binary_score='yes')"
      ]
     },
     "execution_count": 5,
     "metadata": {},
     "output_type": "execute_result"
    }
   ],
   "source": [
    "### Answer Grader\n",
    "\n",
    "\n",
    "# Data model\n",
    "class GradeAnswer(BaseModel):\n",
    "    \"\"\"Binary score to assess answer addresses question.\"\"\"\n",
    "\n",
    "    binary_score: str = Field(\n",
    "        description=\"Answer addresses the question, 'yes' or 'no'\"\n",
    "    )\n",
    "\n",
    "\n",
    "# LLM with function call\n",
    "llm = ChatOpenAI(model=\"gpt-3.5-turbo-0125\", temperature=0)\n",
    "structured_llm_grader = llm.with_structured_output(GradeAnswer)\n",
    "\n",
    "# Prompt\n",
    "system = \"\"\"You are a grader assessing whether an answer addresses / resolves a question \\n \n",
    "     Give a binary score 'yes' or 'no'. Yes' means that the answer resolves the question.\"\"\"\n",
    "answer_prompt = ChatPromptTemplate.from_messages(\n",
    "    [\n",
    "        (\"system\", system),\n",
    "        (\"human\", \"User question: \\n\\n {question} \\n\\n LLM generation: {generation}\"),\n",
    "    ]\n",
    ")\n",
    "\n",
    "answer_grader = answer_prompt | structured_llm_grader\n",
    "answer_grader.invoke({\"question\": question, \"generation\": generation})"
   ]
  },
  {
   "cell_type": "code",
   "execution_count": 6,
   "id": "c6f4c70e-1660-4149-82c0-837f19fc9fb5",
   "metadata": {},
   "outputs": [
    {
     "data": {
      "text/plain": [
       "\"What is the role of memory in an agent's functioning?\""
      ]
     },
     "execution_count": 6,
     "metadata": {},
     "output_type": "execute_result"
    }
   ],
   "source": [
    "### Question Re-writer\n",
    "\n",
    "# LLM\n",
    "llm = ChatOpenAI(model=\"gpt-3.5-turbo-0125\", temperature=0)\n",
    "\n",
    "# Prompt\n",
    "system = \"\"\"You a question re-writer that converts an input question to a better version that is optimized \\n \n",
    "     for vectorstore retrieval. Look at the input and try to reason about the underlying semantic intent / meaning.\"\"\"\n",
    "re_write_prompt = ChatPromptTemplate.from_messages(\n",
    "    [\n",
    "        (\"system\", system),\n",
    "        (\n",
    "            \"human\",\n",
    "            \"Here is the initial question: \\n\\n {question} \\n Formulate an improved question.\",\n",
    "        ),\n",
    "    ]\n",
    ")\n",
    "\n",
    "question_rewriter = re_write_prompt | llm | StrOutputParser()\n",
    "question_rewriter.invoke({\"question\": question})"
   ]
  },
  {
   "cell_type": "markdown",
   "id": "276001c5-c079-4e5b-9f42-81a06704d200",
   "metadata": {},
   "source": [
    "# Graph \n",
    "\n",
    "Capture the flow in as a graph.\n",
    "\n",
    "## Graph state"
   ]
  },
  {
   "cell_type": "code",
   "execution_count": 7,
   "id": "f1617e9e-66a8-4c1a-a1fe-cc936284c085",
   "metadata": {},
   "outputs": [],
   "source": [
    "from typing import List\n",
    "\n",
    "from typing_extensions import TypedDict\n",
    "\n",
    "\n",
    "class GraphState(TypedDict):\n",
    "    \"\"\"\n",
    "    Represents the state of our graph.\n",
    "\n",
    "    Attributes:\n",
    "        question: question\n",
    "        generation: LLM generation\n",
    "        documents: list of documents\n",
    "    \"\"\"\n",
    "\n",
    "    question: str\n",
    "    generation: str\n",
    "    documents: List[str]"
   ]
  },
  {
   "cell_type": "code",
   "execution_count": 8,
   "id": "add509d8-6682-4127-8d95-13dd37d79702",
   "metadata": {},
   "outputs": [],
   "source": [
    "### Nodes\n",
    "\n",
    "\n",
    "def retrieve(state):\n",
    "    \"\"\"\n",
    "    Retrieve documents\n",
    "\n",
    "    Args:\n",
    "        state (dict): The current graph state\n",
    "\n",
    "    Returns:\n",
    "        state (dict): New key added to state, documents, that contains retrieved documents\n",
    "    \"\"\"\n",
    "    print(\"---RETRIEVE---\")\n",
    "    question = state[\"question\"]\n",
    "\n",
    "    # Retrieval\n",
    "    documents = retriever.get_relevant_documents(question)\n",
    "    return {\"documents\": documents, \"question\": question}\n",
    "\n",
    "\n",
    "def generate(state):\n",
    "    \"\"\"\n",
    "    Generate answer\n",
    "\n",
    "    Args:\n",
    "        state (dict): The current graph state\n",
    "\n",
    "    Returns:\n",
    "        state (dict): New key added to state, generation, that contains LLM generation\n",
    "    \"\"\"\n",
    "    print(\"---GENERATE---\")\n",
    "    question = state[\"question\"]\n",
    "    documents = state[\"documents\"]\n",
    "\n",
    "    # RAG generation\n",
    "    generation = rag_chain.invoke({\"context\": documents, \"question\": question})\n",
    "    return {\"documents\": documents, \"question\": question, \"generation\": generation}\n",
    "\n",
    "\n",
    "def grade_documents(state):\n",
    "    \"\"\"\n",
    "    Determines whether the retrieved documents are relevant to the question.\n",
    "\n",
    "    Args:\n",
    "        state (dict): The current graph state\n",
    "\n",
    "    Returns:\n",
    "        state (dict): Updates documents key with only filtered relevant documents\n",
    "    \"\"\"\n",
    "\n",
    "    print(\"---CHECK DOCUMENT RELEVANCE TO QUESTION---\")\n",
    "    question = state[\"question\"]\n",
    "    documents = state[\"documents\"]\n",
    "\n",
    "    # Score each doc\n",
    "    filtered_docs = []\n",
    "    for d in documents:\n",
    "        score = retrieval_grader.invoke(\n",
    "            {\"question\": question, \"document\": d.page_content}\n",
    "        )\n",
    "        grade = score.binary_score\n",
    "        if grade == \"yes\":\n",
    "            print(\"---GRADE: DOCUMENT RELEVANT---\")\n",
    "            filtered_docs.append(d)\n",
    "        else:\n",
    "            print(\"---GRADE: DOCUMENT NOT RELEVANT---\")\n",
    "            continue\n",
    "    return {\"documents\": filtered_docs, \"question\": question}\n",
    "\n",
    "\n",
    "def transform_query(state):\n",
    "    \"\"\"\n",
    "    Transform the query to produce a better question.\n",
    "\n",
    "    Args:\n",
    "        state (dict): The current graph state\n",
    "\n",
    "    Returns:\n",
    "        state (dict): Updates question key with a re-phrased question\n",
    "    \"\"\"\n",
    "\n",
    "    print(\"---TRANSFORM QUERY---\")\n",
    "    question = state[\"question\"]\n",
    "    documents = state[\"documents\"]\n",
    "\n",
    "    # Re-write question\n",
    "    better_question = question_rewriter.invoke({\"question\": question})\n",
    "    return {\"documents\": documents, \"question\": better_question}\n",
    "\n",
    "\n",
    "### Edges\n",
    "\n",
    "\n",
    "def decide_to_generate(state):\n",
    "    \"\"\"\n",
    "    Determines whether to generate an answer, or re-generate a question.\n",
    "\n",
    "    Args:\n",
    "        state (dict): The current graph state\n",
    "\n",
    "    Returns:\n",
    "        str: Binary decision for next node to call\n",
    "    \"\"\"\n",
    "\n",
    "    print(\"---ASSESS GRADED DOCUMENTS---\")\n",
    "    state[\"question\"]\n",
    "    filtered_documents = state[\"documents\"]\n",
    "\n",
    "    if not filtered_documents:\n",
    "        # All documents have been filtered check_relevance\n",
    "        # We will re-generate a new query\n",
    "        print(\n",
    "            \"---DECISION: ALL DOCUMENTS ARE NOT RELEVANT TO QUESTION, TRANSFORM QUERY---\"\n",
    "        )\n",
    "        return \"transform_query\"\n",
    "    else:\n",
    "        # We have relevant documents, so generate answer\n",
    "        print(\"---DECISION: GENERATE---\")\n",
    "        return \"generate\"\n",
    "\n",
    "\n",
    "def grade_generation_v_documents_and_question(state):\n",
    "    \"\"\"\n",
    "    Determines whether the generation is grounded in the document and answers question.\n",
    "\n",
    "    Args:\n",
    "        state (dict): The current graph state\n",
    "\n",
    "    Returns:\n",
    "        str: Decision for next node to call\n",
    "    \"\"\"\n",
    "\n",
    "    print(\"---CHECK HALLUCINATIONS---\")\n",
    "    question = state[\"question\"]\n",
    "    documents = state[\"documents\"]\n",
    "    generation = state[\"generation\"]\n",
    "\n",
    "    score = hallucination_grader.invoke(\n",
    "        {\"documents\": documents, \"generation\": generation}\n",
    "    )\n",
    "    grade = score.binary_score\n",
    "\n",
    "    # Check hallucination\n",
    "    if grade == \"yes\":\n",
    "        print(\"---DECISION: GENERATION IS GROUNDED IN DOCUMENTS---\")\n",
    "        # Check question-answering\n",
    "        print(\"---GRADE GENERATION vs QUESTION---\")\n",
    "        score = answer_grader.invoke({\"question\": question, \"generation\": generation})\n",
    "        grade = score.binary_score\n",
    "        if grade == \"yes\":\n",
    "            print(\"---DECISION: GENERATION ADDRESSES QUESTION---\")\n",
    "            return \"useful\"\n",
    "        else:\n",
    "            print(\"---DECISION: GENERATION DOES NOT ADDRESS QUESTION---\")\n",
    "            return \"not useful\"\n",
    "    else:\n",
    "        pprint(\"---DECISION: GENERATION IS NOT GROUNDED IN DOCUMENTS, RE-TRY---\")\n",
    "        return \"not supported\""
   ]
  },
  {
   "cell_type": "markdown",
   "id": "61cd5797-1782-4d78-a277-8196d13f3e1b",
   "metadata": {},
   "source": [
    "## Build Graph\n",
    "\n",
    "The just follows the flow we outlined in the figure above."
   ]
  },
  {
   "cell_type": "code",
   "execution_count": 10,
   "id": "0e09ca9f-e36d-4ef4-a0d5-79fdbada9fe0",
   "metadata": {},
   "outputs": [],
   "source": [
    "from langgraph.graph import END, StateGraph, START\n",
    "\n",
    "workflow = StateGraph(GraphState)\n",
    "\n",
    "# Define the nodes\n",
    "workflow.add_node(\"retrieve\", retrieve)  # retrieve\n",
    "workflow.add_node(\"grade_documents\", grade_documents)  # grade documents\n",
    "workflow.add_node(\"generate\", generate)  # generatae\n",
    "workflow.add_node(\"transform_query\", transform_query)  # transform_query\n",
    "\n",
    "# Build graph\n",
    "workflow.add_edge(START, \"retrieve\")\n",
    "workflow.add_edge(\"retrieve\", \"grade_documents\")\n",
    "workflow.add_conditional_edges(\n",
    "    \"grade_documents\",\n",
    "    decide_to_generate,\n",
    "    {\n",
    "        \"transform_query\": \"transform_query\",\n",
    "        \"generate\": \"generate\",\n",
    "    },\n",
    ")\n",
    "workflow.add_edge(\"transform_query\", \"retrieve\")\n",
    "workflow.add_conditional_edges(\n",
    "    \"generate\",\n",
    "    grade_generation_v_documents_and_question,\n",
    "    {\n",
    "        \"not supported\": \"generate\",\n",
    "        \"useful\": END,\n",
    "        \"not useful\": \"transform_query\",\n",
    "    },\n",
    ")\n",
    "\n",
    "# Compile\n",
    "app = workflow.compile()"
   ]
  },
  {
   "cell_type": "code",
   "execution_count": 11,
   "id": "fb69dbb9-91ee-4868-8c3c-93af3cd885be",
   "metadata": {},
   "outputs": [
    {
     "name": "stdout",
     "output_type": "stream",
     "text": [
      "---RETRIEVE---\n",
      "\"Node 'retrieve':\"\n",
      "'\\n---\\n'\n",
      "---CHECK DOCUMENT RELEVANCE TO QUESTION---\n",
      "---GRADE: DOCUMENT NOT RELEVANT---\n",
      "---GRADE: DOCUMENT RELEVANT---\n",
      "---GRADE: DOCUMENT NOT RELEVANT---\n",
      "---GRADE: DOCUMENT RELEVANT---\n",
      "---ASSESS GRADED DOCUMENTS---\n",
      "---DECISION: GENERATE---\n",
      "\"Node 'grade_documents':\"\n",
      "'\\n---\\n'\n",
      "---GENERATE---\n",
      "---CHECK HALLUCINATIONS---\n",
      "---DECISION: GENERATION IS GROUNDED IN DOCUMENTS---\n",
      "---GRADE GENERATION vs QUESTION---\n",
      "---DECISION: GENERATION ADDRESSES QUESTION---\n",
      "\"Node 'generate':\"\n",
      "'\\n---\\n'\n",
      "('Short-term memory is used for in-context learning in agents, allowing them '\n",
      " 'to learn quickly. Long-term memory enables agents to retain and recall vast '\n",
      " 'amounts of information over extended periods. Agents can also utilize '\n",
      " 'external tools like APIs to access additional information beyond what is '\n",
      " 'stored in their memory.')\n"
     ]
    }
   ],
   "source": [
    "from pprint import pprint\n",
    "\n",
    "# Run\n",
    "inputs = {\"question\": \"Explain how the different types of agent memory work?\"}\n",
    "for output in app.stream(inputs):\n",
    "    for key, value in output.items():\n",
    "        # Node\n",
    "        pprint(f\"Node '{key}':\")\n",
    "        # Optional: print full state at each node\n",
    "        # pprint.pprint(value[\"keys\"], indent=2, width=80, depth=None)\n",
    "    pprint(\"\\n---\\n\")\n",
    "\n",
    "# Final generation\n",
    "pprint(value[\"generation\"])"
   ]
  },
  {
   "cell_type": "code",
   "execution_count": 12,
   "id": "4138bc51-8c84-4b8a-8d24-f7f470721f6f",
   "metadata": {},
   "outputs": [
    {
     "name": "stdout",
     "output_type": "stream",
     "text": [
      "---RETRIEVE---\n",
      "\"Node 'retrieve':\"\n",
      "'\\n---\\n'\n",
      "---CHECK DOCUMENT RELEVANCE TO QUESTION---\n",
      "---GRADE: DOCUMENT RELEVANT---\n",
      "---GRADE: DOCUMENT NOT RELEVANT---\n",
      "---GRADE: DOCUMENT RELEVANT---\n",
      "---GRADE: DOCUMENT RELEVANT---\n",
      "---ASSESS GRADED DOCUMENTS---\n",
      "---DECISION: GENERATE---\n",
      "\"Node 'grade_documents':\"\n",
      "'\\n---\\n'\n",
      "---GENERATE---\n",
      "---CHECK HALLUCINATIONS---\n",
      "---DECISION: GENERATION IS GROUNDED IN DOCUMENTS---\n",
      "---GRADE GENERATION vs QUESTION---\n",
      "---DECISION: GENERATION ADDRESSES QUESTION---\n",
      "\"Node 'generate':\"\n",
      "'\\n---\\n'\n",
      "('Chain of thought prompting works by repeatedly prompting the model to ask '\n",
      " 'follow-up questions to construct the thought process iteratively. This '\n",
      " 'method can be combined with queries to search for relevant entities and '\n",
      " 'content to add back into the context. It extends the thought process by '\n",
      " 'exploring multiple reasoning possibilities at each step, creating a tree '\n",
      " 'structure of thoughts.')\n"
     ]
    }
   ],
   "source": [
    "inputs = {\"question\": \"Explain how chain of thought prompting works?\"}\n",
    "for output in app.stream(inputs):\n",
    "    for key, value in output.items():\n",
    "        # Node\n",
    "        pprint(f\"Node '{key}':\")\n",
    "        # Optional: print full state at each node\n",
    "        # pprint.pprint(value[\"keys\"], indent=2, width=80, depth=None)\n",
    "    pprint(\"\\n---\\n\")\n",
    "\n",
    "# Final generation\n",
    "pprint(value[\"generation\"])"
   ]
  },
  {
   "cell_type": "markdown",
   "id": "548f1c5b-4108-4aae-8abb-ec171b511b92",
   "metadata": {},
   "source": [
    "LangSmith Traces - \n",
    " \n",
    "* https://smith.langchain.com/public/55d6180f-aab8-42bc-8799-dadce6247d9b/r\n",
    "\n",
    "* https://smith.langchain.com/public/1c6bf654-61b2-4fc5-9889-054b020c78aa/r"
   ]
  },
  {
   "cell_type": "code",
   "execution_count": null,
   "id": "4a2e1d61",
   "metadata": {},
   "outputs": [],
   "source": [
    "python main_freebase.py \\  # if you wanna use Wikidata as KG source, run main_wiki.py\n",
    "--dataset cwq \\ # dataset your wanna test, see ToG/data/README.md\n",
    "--max_length 256 \\ \n",
    "--temperature_exploration 0.4 \\ # the temperature in exploration stage.\n",
    "--temperature_exploration 0 \\ # the temperature in reasoning stage.\n",
    "--width 3 \\ # choose the search width of ToG, 3 is the default setting.\n",
    "--depth 3 \\ # choose the search depth of ToG, 3 is the default setting.\n",
    "--remove_unnecessary_rel True \\ # whether removing unnecessary relations.\n",
    "--LLM_type gpt-3.5-turbo \\ # the LLM you choose\n",
    "--opeani_api_keys sk-xxxx \\ # your own api keys, if LLM_type == llama, this parameter would be rendered ineffective.\n",
    "--num_retain_entity 5 \\ # Number of entities retained during entities search.\n",
    "--prune_tools llm \\ # prune tools for ToG, can be llm (same as LLM_type), bm25 or sentencebert."
   ]
  }
 ],
 "metadata": {
  "kernelspec": {
   "display_name": "chatkbqa",
   "language": "python",
   "name": "python3"
  },
  "language_info": {
   "codemirror_mode": {
    "name": "ipython",
    "version": 3
   },
   "file_extension": ".py",
   "mimetype": "text/x-python",
   "name": "python",
   "nbconvert_exporter": "python",
   "pygments_lexer": "ipython3",
   "version": "3.8.19"
  }
 },
 "nbformat": 4,
 "nbformat_minor": 5
}
